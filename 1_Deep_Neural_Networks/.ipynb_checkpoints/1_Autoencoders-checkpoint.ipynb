{
 "cells": [
  {
   "cell_type": "markdown",
   "metadata": {
    "tags": []
   },
   "source": [
    "<center> <h1>1. Deep Neural Networks</h1> </center> \n",
    "<center> <h2>by Michelle Veriah</h2> </center> \n",
    "<br/>"
   ]
  },
  {
   "cell_type": "markdown",
   "metadata": {},
   "source": [
    "# Part 1. Data Preprocessing"
   ]
  },
  {
   "cell_type": "code",
   "execution_count": 1,
   "metadata": {
    "tags": []
   },
   "outputs": [],
   "source": [
    "# import modules \n",
    "import pandas as pd\n",
    "import numpy as np \n",
    "import matplotlib.pyplot as plt\n",
    "\n",
    "import tensorflow as tf\n",
    "from tensorflow.keras.layers import Input, Dense\n",
    "from tensorflow.keras.models import Sequential\n",
    "from tensorflow.keras import optimizers\n",
    "from sklearn.metrics import mean_squared_error\n",
    "\n",
    "import random\n",
    "import tqdm\n",
    "\n",
    "import os "
   ]
  },
  {
   "cell_type": "code",
   "execution_count": 2,
   "metadata": {
    "tags": []
   },
   "outputs": [],
   "source": [
    "# Clean up Data \n",
    "\n",
    "# Dataset ID for image data \n",
    "dataset_id = '20231001-093204_701ae6008a983034ab37e3f3903d1e9f'\n",
    "prefix = f'https://danylo-ucla.s3-us-west-2.amazonaws.com/app/storage/mnist/jobs/transform_repack/{dataset_id}'\n",
    "\n",
    "# These three dataframes contain clean images. \n",
    "# Use each dataframe to train, validate, and test your model, respectively.\n",
    "train_clean_X = pd.read_parquet(f'{prefix}/train_clean_x.parquet')\n",
    "validate_clean_X = pd.read_parquet(f'{prefix}/validate_clean_x.parquet')\n",
    "test_clean_X = pd.read_parquet(f'{prefix}/test_clean_x.parquet')\n",
    "\n",
    "# These dataframes are noisy versions of the dataframes above.\n",
    "train_noisy_X = pd.read_parquet(f'{prefix}/train_noisy_x.parquet')\n",
    "validate_noisy_X = pd.read_parquet(f'{prefix}/validate_noisy_x.parquet')\n",
    "test_noisy_X = pd.read_parquet(f'{prefix}/test_noisy_x.parquet')\n",
    "\n",
    "# This is the segment of the dataset where we do not know the classifications for \n",
    "score_noisy_X = pd.read_parquet(f'{prefix}/score_noisy_x.parquet')\n",
    "\n",
    "# For additional context, these are labels (e.g. digits) corresponding to each image in the dataset. \n",
    "# Use it to analyze which digits your models has more or less problems with. \n",
    "# These dataframes should not be used as part of the training process itself, only for post-training analysis, if you wish so.\n",
    "train_y = pd.read_parquet(f'{prefix}/train_y.parquet')\n",
    "validate_y = pd.read_parquet(f'{prefix}/validate_y.parquet')\n",
    "test_y = pd.read_parquet(f'{prefix}/test_y.parquet')"
   ]
  },
  {
   "cell_type": "code",
   "execution_count": 3,
   "metadata": {
    "tags": []
   },
   "outputs": [
    {
     "name": "stdout",
     "output_type": "stream",
     "text": [
      "Data Loaded\n"
     ]
    }
   ],
   "source": [
    "print(\"Data Loaded\")"
   ]
  },
  {
   "cell_type": "markdown",
   "metadata": {},
   "source": [
    "### Plot Images"
   ]
  },
  {
   "cell_type": "code",
   "execution_count": 4,
   "metadata": {
    "tags": []
   },
   "outputs": [
    {
     "data": {
      "image/png": "[encoded data removed]",
      "text/plain": [
       "<Figure size 640x480 with 8 Axes>"
      ]
     },
     "metadata": {},
     "output_type": "display_data"
    }
   ],
   "source": [
    "# Plot first four digits of clean data \n",
    "plt.subplot(241)\n",
    "plt.imshow(train_clean_X.loc[0].values.reshape(28, 28), cmap=plt.get_cmap('gray'))\n",
    "plt.subplot(242)\n",
    "plt.imshow(train_clean_X.loc[1].values.reshape(28, 28), cmap=plt.get_cmap('gray'))\n",
    "plt.subplot(243)\n",
    "plt.imshow(train_clean_X.loc[2].values.reshape(28, 28), cmap=plt.get_cmap('gray'))\n",
    "plt.subplot(244)\n",
    "plt.imshow(train_clean_X.loc[3].values.reshape(28, 28), cmap=plt.get_cmap('gray'))\n",
    "\n",
    "# Plot first four digits of dirty data \n",
    "plt.subplot(245)\n",
    "plt.imshow(train_noisy_X.loc[0].values.reshape(28, 28), cmap=plt.get_cmap('gray'))\n",
    "plt.subplot(246)\n",
    "plt.imshow(train_noisy_X.loc[1].values.reshape(28, 28), cmap=plt.get_cmap('gray'))\n",
    "plt.subplot(247)\n",
    "plt.imshow(train_noisy_X.loc[2].values.reshape(28, 28), cmap=plt.get_cmap('gray'))\n",
    "plt.subplot(248)\n",
    "plt.imshow(train_noisy_X.loc[3].values.reshape(28, 28), cmap=plt.get_cmap('gray'))\n",
    "\n",
    "# Show data\n",
    "plt.show()"
   ]
  },
  {
   "cell_type": "code",
   "execution_count": 5,
   "metadata": {},
   "outputs": [
    {
     "name": "stdout",
     "output_type": "stream",
     "text": [
      "(49000, 784)\n",
      "(49000, 784)\n",
      "(7000, 784)\n",
      "(7000, 784)\n",
      "(7000, 784)\n",
      "(7000, 784)\n"
     ]
    }
   ],
   "source": [
    "# check out shape of data \n",
    "print(train_noisy_X.shape)\n",
    "print(train_clean_X.shape)\n",
    "print(validate_noisy_X.shape)\n",
    "print(validate_clean_X.shape)\n",
    "print(test_noisy_X.shape)\n",
    "print(test_clean_X.shape)"
   ]
  },
  {
   "cell_type": "markdown",
   "metadata": {},
   "source": [
    "<br/>\n",
    "\n",
    "<br/>\n",
    "\n",
    "# Part 2. Train AutoEncoder"
   ]
  },
  {
   "cell_type": "markdown",
   "metadata": {},
   "source": [
    "## Set Up"
   ]
  },
  {
   "cell_type": "code",
   "execution_count": 8,
   "metadata": {
    "tags": []
   },
   "outputs": [],
   "source": [
    "import json\n",
    "import uuid\n",
    "import os\n",
    "\n",
    "# This function will be used to save each trained model.\n",
    "def save_model(model: tf.keras.Model, model_path: str):\n",
    "    os.makedirs(model_path, exist_ok=True)\n",
    "    tf.keras.models.save_model(model, f'{model_path}/model.keras')\n",
    "    with open(f'{model_path}/architecture.json', 'w') as f:\n",
    "        f.write(json.dumps(json.loads(model.to_json()), indent=True))\n",
    "\n",
    "\n",
    "# This function can be used to load a previously trained model.\n",
    "def load_model(model_path: str) -> tf.keras.Model:\n",
    "    return tf.keras.models.load_model(f'{model_path}/model.keras')"
   ]
  },
  {
   "cell_type": "code",
   "execution_count": 9,
   "metadata": {
    "tags": []
   },
   "outputs": [],
   "source": [
    "# See MLFlow docs for more API examples.\n",
    "# https://mlflow.org/docs/latest/python_api/mlflow.html\n",
    "\n",
    "import mlflow\n",
    "mlflow.set_experiment('module_01')\n",
    "mlflow.tensorflow.autolog(log_models=False, log_input_examples=False, log_model_signatures=False, silent=True)"
   ]
  },
  {
   "cell_type": "code",
   "execution_count": 10,
   "metadata": {
    "tags": []
   },
   "outputs": [
    {
     "data": {
      "text/plain": [
       "<Experiment: artifact_location='file:///app/mlflow/581931868440549010', creation_time=1696808766201, experiment_id='581931868440549010', last_update_time=1696808766201, lifecycle_stage='active', name='assignment_01', tags={}>"
      ]
     },
     "execution_count": 10,
     "metadata": {},
     "output_type": "execute_result"
    }
   ],
   "source": [
    "mlflow.get_experiment_by_name('module_01')"
   ]
  },
  {
   "cell_type": "code",
   "execution_count": 11,
   "metadata": {
    "tags": []
   },
   "outputs": [],
   "source": [
    "# define architecture of model  \n",
    "\n",
    "def build_model(encoder_width: int, learning_rate_log: float) -> tf.keras.Model:\n",
    "    mlflow.log_param('encoder_width', encoder_width)\n",
    "    mlflow.log_param('learning_rate_log', learning_rate_log)\n",
    "    \n",
    "    layers = [\n",
    "        \n",
    "        # Encoder Layers \n",
    "        # Dense(units=encoder_width, activation='gelu', input_shape=(28*28,)),  # OG \n",
    "        Dense(units=500, activation=\"relu\", input_shape=(28*28,)), \n",
    "        Dense(units=300, activation=\"relu\"), \n",
    "        #Dense(units=100, activation=\"relu\"), \n",
    "        #Dense(units=49, activation=\"relu\"), \n",
    "        Dense(units=encoder_width, activation=\"relu\"), \n",
    "        \n",
    "        # Decoder layers \n",
    "        #Dense(units=49, activation=\"relu\"), \n",
    "        #Dense(units=100, activation=\"relu\"), \n",
    "        Dense(units=300, activation=\"relu\"),\n",
    "        Dense(units=500, activation=\"relu\"),\n",
    "        Dense(units=784, activation=\"sigmoid\"), \n",
    "        # Dense(units=28*28, activation='sigmoid') # OG \n",
    "\n",
    "    ]\n",
    "\n",
    "    autoencoder = Sequential(layers)\n",
    "\n",
    "    autoencoder.compile(\n",
    "        #optimizer='adam', \n",
    "        optimizer=optimizers.Adam(\n",
    "            learning_rate=0.001 #10 ** learning_rate_log\n",
    "        ), \n",
    "        loss='mean_squared_error',\n",
    "    )\n",
    "    return autoencoder"
   ]
  },
  {
   "cell_type": "code",
   "execution_count": 12,
   "metadata": {
    "tags": []
   },
   "outputs": [],
   "source": [
    "# consfigure ml flow \n",
    "from collegium.foundation.callbacks import MlflowCallback\n",
    "import tempfile\n",
    "\n",
    "# define train model \n",
    "def train_anomaly_model(model: tf.keras.Model, epochs: int, verbose: int = 10) -> tf.keras.callbacks.History:\n",
    "    history = model.fit(\n",
    "        x=train_noisy_X, #train_noisy_X, \n",
    "        y=train_clean_X, #train_clean_X, \n",
    "\n",
    "        # It's a good idea to have low number of epochs, to test the learning process, but not for the final model training.\n",
    "        epochs=epochs,\n",
    "        batch_size=128, #64\n",
    "        shuffle=True,\n",
    "        \n",
    "        validation_data=(validate_noisy_X, validate_clean_X), #(validate_noisy_X, validate_clean_X),\n",
    "        callbacks=[MlflowCallback()],\n",
    "        verbose=verbose\n",
    "    )\n",
    "    \n",
    "    # Save model parameters to the file system and upload to MLFlow.\n",
    "    with tempfile.TemporaryDirectory('wb') as d:\n",
    "        model_path = f'{d}/model'\n",
    "        save_model(model, model_path)\n",
    "        mlflow.log_artifacts(d)\n",
    "    \n",
    "    return history"
   ]
  },
  {
   "cell_type": "markdown",
   "metadata": {},
   "source": [
    "## Start Training"
   ]
  },
  {
   "cell_type": "code",
   "execution_count": 13,
   "metadata": {
    "tags": []
   },
   "outputs": [
    {
     "name": "stdout",
     "output_type": "stream",
     "text": [
      "Epoch 1/10\n",
      "Epoch 2/10\n",
      "Epoch 3/10\n",
      "Epoch 4/10\n",
      "Epoch 5/10\n",
      "Epoch 6/10\n",
      "Epoch 7/10\n",
      "Epoch 8/10\n",
      "Epoch 9/10\n",
      "Epoch 10/10\n"
     ]
    }
   ],
   "source": [
    "np.random.seed(11)\n",
    "tf.random.set_seed(11)\n",
    "\n",
    "with mlflow.start_run():\n",
    "    autoencoder = build_model(encoder_width=10, learning_rate_log=-6)\n",
    "    history = train_anomaly_model(autoencoder, epochs=10)"
   ]
  },
  {
   "cell_type": "code",
   "execution_count": 14,
   "metadata": {
    "tags": []
   },
   "outputs": [],
   "source": [
    "# Predict (using training set for now) \n",
    "train_denoised_X = autoencoder.predict(train_noisy_X)\n",
    "train_denoised_X = pd.DataFrame(train_denoised_X)"
   ]
  },
  {
   "cell_type": "code",
   "execution_count": 15,
   "metadata": {
    "tags": []
   },
   "outputs": [
    {
     "name": "stdout",
     "output_type": "stream",
     "text": [
      "Noisy Images\n"
     ]
    },
    {
     "data": {
      "image/png": "[encoded data removed]",
      "text/plain": [
       "<Figure size 2000x400 with 10 Axes>"
      ]
     },
     "metadata": {},
     "output_type": "display_data"
    },
    {
     "name": "stdout",
     "output_type": "stream",
     "text": [
      "Denoised Images\n"
     ]
    },
    {
     "data": {
      "image/png": "[encoded data removed]",
      "text/plain": [
       "<Figure size 2000x400 with 10 Axes>"
      ]
     },
     "metadata": {},
     "output_type": "display_data"
    },
    {
     "name": "stdout",
     "output_type": "stream",
     "text": [
      "Clean Images\n"
     ]
    },
    {
     "data": {
      "image/png": "[encoded data removed]",
      "text/plain": [
       "<Figure size 2000x400 with 10 Axes>"
      ]
     },
     "metadata": {},
     "output_type": "display_data"
    }
   ],
   "source": [
    "# Print noisy images \n",
    "plt.figure(figsize=(20, 4))\n",
    "print(\"Noisy Images\") \n",
    "for i in range (10, 20, 1): \n",
    "    plt.subplot(2, 10, i+1)\n",
    "    plt.imshow(train_noisy_X.loc[i].values.reshape(28, 28), cmap='gray')\n",
    "plt.show()\n",
    "    \n",
    "# Print denoised images \n",
    "plt.figure(figsize=(20, 4))\n",
    "print(\"Denoised Images\") \n",
    "for i in range (10, 20, 1): \n",
    "    plt.subplot(2, 10, i+1)\n",
    "    plt.imshow(train_denoised_X.loc[i].values.reshape(28, 28), cmap='binary')\n",
    "    #plt.imshow(train_denoised_X[i].reshape((28, 28)), cmap='gray')\n",
    "plt.show()\n",
    "\n",
    "# Print clean images \n",
    "plt.figure(figsize=(20, 4))\n",
    "print(\"Clean Images\") \n",
    "for i in range (10, 20, 1): \n",
    "    plt.subplot(2, 10, i+1)\n",
    "    plt.imshow(train_clean_X.loc[i].values.reshape(28, 28), cmap='gray')\n",
    "plt.show()"
   ]
  },
  {
   "cell_type": "code",
   "execution_count": 16,
   "metadata": {
    "tags": []
   },
   "outputs": [
    {
     "data": {
      "text/plain": [
       "0.017102187"
      ]
     },
     "execution_count": 16,
     "metadata": {},
     "output_type": "execute_result"
    }
   ],
   "source": [
    "# Calculate MSE on training set \n",
    "mean_squared_error(train_denoised_X, train_clean_X)"
   ]
  },
  {
   "cell_type": "code",
   "execution_count": 17,
   "metadata": {
    "tags": []
   },
   "outputs": [
    {
     "data": {
      "text/plain": [
       "0.01850112"
      ]
     },
     "execution_count": 17,
     "metadata": {},
     "output_type": "execute_result"
    }
   ],
   "source": [
    "# Check out validate dataset \n",
    "validate_denoised_X = autoencoder.predict(validate_noisy_X)\n",
    "validate_denoised_X = pd.DataFrame(validate_denoised_X)\n",
    "mean_squared_error(validate_denoised_X, validate_clean_X)"
   ]
  },
  {
   "cell_type": "code",
   "execution_count": 18,
   "metadata": {
    "tags": []
   },
   "outputs": [
    {
     "data": {
      "text/plain": [
       "0.018296544"
      ]
     },
     "execution_count": 18,
     "metadata": {},
     "output_type": "execute_result"
    }
   ],
   "source": [
    "# Check out test dataset \n",
    "test_denoised_X = autoencoder.predict(test_noisy_X)\n",
    "test_denoised_X = pd.DataFrame(test_denoised_X)\n",
    "mean_squared_error(test_denoised_X, test_clean_X)"
   ]
  },
  {
   "cell_type": "markdown",
   "metadata": {},
   "source": [
    "## Hypertune Parameters "
   ]
  },
  {
   "cell_type": "code",
   "execution_count": 20,
   "metadata": {
    "tags": []
   },
   "outputs": [
    {
     "name": "stderr",
     "output_type": "stream",
     "text": [
      "  0%|          | 0/10 [00:00<?, ?it/s]"
     ]
    },
    {
     "name": "stdout",
     "output_type": "stream",
     "text": [
      "Final encoder width: 150\n",
      "Final learning rate: 0.004324237593290823\n",
      "Epoch 1/15\n",
      "383/383 [==============================] - 6s 15ms/step - loss: 0.0363 - val_loss: 0.0178\n",
      "Epoch 2/15\n",
      "383/383 [==============================] - 6s 15ms/step - loss: 0.0147 - val_loss: 0.0128\n",
      "Epoch 3/15\n",
      "383/383 [==============================] - 6s 15ms/step - loss: 0.0116 - val_loss: 0.0109\n",
      "Epoch 4/15\n",
      "383/383 [==============================] - 6s 15ms/step - loss: 0.0100 - val_loss: 0.0097\n",
      "Epoch 5/15\n",
      "383/383 [==============================] - 6s 15ms/step - loss: 0.0090 - val_loss: 0.0088\n",
      "Epoch 6/15\n",
      "383/383 [==============================] - 6s 16ms/step - loss: 0.0083 - val_loss: 0.0084\n",
      "Epoch 7/15\n",
      "383/383 [==============================] - 6s 15ms/step - loss: 0.0077 - val_loss: 0.0079\n",
      "Epoch 8/15\n",
      "383/383 [==============================] - 6s 15ms/step - loss: 0.0073 - val_loss: 0.0080\n",
      "Epoch 9/15\n",
      "383/383 [==============================] - 6s 15ms/step - loss: 0.0070 - val_loss: 0.0073\n",
      "Epoch 10/15\n",
      "383/383 [==============================] - 5s 14ms/step - loss: 0.0067 - val_loss: 0.0069\n",
      "Epoch 11/15\n",
      "383/383 [==============================] - 6s 15ms/step - loss: 0.0065 - val_loss: 0.0069\n",
      "Epoch 12/15\n",
      "383/383 [==============================] - 5s 14ms/step - loss: 0.0062 - val_loss: 0.0068\n",
      "Epoch 13/15\n",
      "383/383 [==============================] - 6s 14ms/step - loss: 0.0061 - val_loss: 0.0066\n",
      "Epoch 14/15\n",
      "383/383 [==============================] - 6s 15ms/step - loss: 0.0059 - val_loss: 0.0066\n",
      "Epoch 15/15\n",
      "383/383 [==============================] - 6s 14ms/step - loss: 0.0057 - val_loss: 0.0063\n",
      "Training MSE:  0.005475776\n",
      "Validation MSE:  0.006264707\n"
     ]
    },
    {
     "name": "stderr",
     "output_type": "stream",
     "text": [
      " 10%|█         | 1/10 [01:34<14:06, 94.09s/it]"
     ]
    },
    {
     "name": "stdout",
     "output_type": "stream",
     "text": [
      "Testing MSE:  0.0062303403\n",
      "Final encoder width: 150\n",
      "Final learning rate: 0.001659677375227642\n",
      "Epoch 1/15\n",
      "383/383 [==============================] - 6s 15ms/step - loss: 0.0372 - val_loss: 0.0187\n",
      "Epoch 2/15\n",
      "383/383 [==============================] - 6s 15ms/step - loss: 0.0155 - val_loss: 0.0134\n",
      "Epoch 3/15\n",
      "383/383 [==============================] - 6s 16ms/step - loss: 0.0121 - val_loss: 0.0113\n",
      "Epoch 4/15\n",
      "383/383 [==============================] - 5s 14ms/step - loss: 0.0104 - val_loss: 0.0099\n",
      "Epoch 5/15\n",
      "383/383 [==============================] - 5s 14ms/step - loss: 0.0093 - val_loss: 0.0091\n",
      "Epoch 6/15\n",
      "383/383 [==============================] - 5s 14ms/step - loss: 0.0086 - val_loss: 0.0085\n",
      "Epoch 7/15\n",
      "383/383 [==============================] - 6s 15ms/step - loss: 0.0080 - val_loss: 0.0081\n",
      "Epoch 8/15\n",
      "383/383 [==============================] - 6s 16ms/step - loss: 0.0075 - val_loss: 0.0079\n",
      "Epoch 9/15\n",
      "383/383 [==============================] - 6s 15ms/step - loss: 0.0072 - val_loss: 0.0074\n",
      "Epoch 10/15\n",
      "383/383 [==============================] - 5s 14ms/step - loss: 0.0069 - val_loss: 0.0071\n",
      "Epoch 11/15\n",
      "383/383 [==============================] - 6s 15ms/step - loss: 0.0067 - val_loss: 0.0071\n",
      "Epoch 12/15\n",
      "383/383 [==============================] - 6s 15ms/step - loss: 0.0064 - val_loss: 0.0069\n",
      "Epoch 13/15\n",
      "383/383 [==============================] - 6s 16ms/step - loss: 0.0062 - val_loss: 0.0066\n",
      "Epoch 14/15\n",
      "383/383 [==============================] - 6s 15ms/step - loss: 0.0061 - val_loss: 0.0065\n",
      "Epoch 15/15\n",
      "383/383 [==============================] - 6s 15ms/step - loss: 0.0059 - val_loss: 0.0064\n",
      "Training MSE:  0.005657033\n",
      "Validation MSE:  0.006428283\n"
     ]
    },
    {
     "name": "stderr",
     "output_type": "stream",
     "text": [
      " 20%|██        | 2/10 [03:08<12:35, 94.41s/it]"
     ]
    },
    {
     "name": "stdout",
     "output_type": "stream",
     "text": [
      "Testing MSE:  0.006418457\n",
      "Final encoder width: 150\n",
      "Final learning rate: 4.9909839311122873e-05\n",
      "Epoch 1/15\n",
      "383/383 [==============================] - 6s 15ms/step - loss: 0.0366 - val_loss: 0.0185\n",
      "Epoch 2/15\n",
      "383/383 [==============================] - 6s 15ms/step - loss: 0.0151 - val_loss: 0.0128\n",
      "Epoch 3/15\n",
      "383/383 [==============================] - 6s 15ms/step - loss: 0.0117 - val_loss: 0.0109\n",
      "Epoch 4/15\n",
      "383/383 [==============================] - 6s 15ms/step - loss: 0.0101 - val_loss: 0.0099\n",
      "Epoch 5/15\n",
      "383/383 [==============================] - 6s 15ms/step - loss: 0.0090 - val_loss: 0.0088\n",
      "Epoch 6/15\n",
      "383/383 [==============================] - 6s 15ms/step - loss: 0.0083 - val_loss: 0.0082\n",
      "Epoch 7/15\n",
      "383/383 [==============================] - 6s 14ms/step - loss: 0.0078 - val_loss: 0.0079\n",
      "Epoch 8/15\n",
      "383/383 [==============================] - 5s 13ms/step - loss: 0.0074 - val_loss: 0.0079\n",
      "Epoch 9/15\n",
      "383/383 [==============================] - 5s 14ms/step - loss: 0.0070 - val_loss: 0.0072\n",
      "Epoch 10/15\n",
      "383/383 [==============================] - 5s 14ms/step - loss: 0.0067 - val_loss: 0.0070\n",
      "Epoch 11/15\n",
      "383/383 [==============================] - 5s 14ms/step - loss: 0.0065 - val_loss: 0.0070\n",
      "Epoch 12/15\n",
      "383/383 [==============================] - 6s 15ms/step - loss: 0.0063 - val_loss: 0.0067\n",
      "Epoch 13/15\n",
      "383/383 [==============================] - 5s 14ms/step - loss: 0.0061 - val_loss: 0.0066\n",
      "Epoch 14/15\n",
      "383/383 [==============================] - 6s 15ms/step - loss: 0.0059 - val_loss: 0.0064\n",
      "Epoch 15/15\n",
      "383/383 [==============================] - 6s 15ms/step - loss: 0.0058 - val_loss: 0.0063\n",
      "Training MSE:  0.005549499\n",
      "Validation MSE:  0.0063333767\n"
     ]
    },
    {
     "name": "stderr",
     "output_type": "stream",
     "text": [
      " 30%|███       | 3/10 [04:42<10:59, 94.25s/it]"
     ]
    },
    {
     "name": "stdout",
     "output_type": "stream",
     "text": [
      "Testing MSE:  0.006298289\n",
      "Final encoder width: 100\n",
      "Final learning rate: 0.006076633888831401\n",
      "Epoch 1/15\n",
      "383/383 [==============================] - 6s 15ms/step - loss: 0.0377 - val_loss: 0.0191\n",
      "Epoch 2/15\n",
      "383/383 [==============================] - 5s 14ms/step - loss: 0.0159 - val_loss: 0.0139\n",
      "Epoch 3/15\n",
      "383/383 [==============================] - 6s 15ms/step - loss: 0.0125 - val_loss: 0.0117\n",
      "Epoch 4/15\n",
      "383/383 [==============================] - 5s 14ms/step - loss: 0.0107 - val_loss: 0.0108\n",
      "Epoch 5/15\n",
      "383/383 [==============================] - 6s 15ms/step - loss: 0.0096 - val_loss: 0.0094\n",
      "Epoch 6/15\n",
      "383/383 [==============================] - 6s 16ms/step - loss: 0.0088 - val_loss: 0.0088\n",
      "Epoch 7/15\n",
      "383/383 [==============================] - 5s 14ms/step - loss: 0.0082 - val_loss: 0.0084\n",
      "Epoch 8/15\n",
      "383/383 [==============================] - 6s 14ms/step - loss: 0.0078 - val_loss: 0.0080\n",
      "Epoch 9/15\n",
      "383/383 [==============================] - 5s 14ms/step - loss: 0.0074 - val_loss: 0.0078\n",
      "Epoch 10/15\n",
      "383/383 [==============================] - 5s 14ms/step - loss: 0.0071 - val_loss: 0.0073\n",
      "Epoch 11/15\n",
      "383/383 [==============================] - 6s 14ms/step - loss: 0.0068 - val_loss: 0.0072\n",
      "Epoch 12/15\n",
      "383/383 [==============================] - 6s 15ms/step - loss: 0.0066 - val_loss: 0.0070\n",
      "Epoch 13/15\n",
      "383/383 [==============================] - 6s 15ms/step - loss: 0.0065 - val_loss: 0.0069\n",
      "Epoch 14/15\n",
      "383/383 [==============================] - 5s 14ms/step - loss: 0.0062 - val_loss: 0.0068\n",
      "Epoch 15/15\n",
      "383/383 [==============================] - 5s 14ms/step - loss: 0.0061 - val_loss: 0.0067\n",
      "Training MSE:  0.0058944807\n",
      "Validation MSE:  0.006715038\n"
     ]
    },
    {
     "name": "stderr",
     "output_type": "stream",
     "text": [
      " 40%|████      | 4/10 [06:15<09:21, 93.67s/it]"
     ]
    },
    {
     "name": "stdout",
     "output_type": "stream",
     "text": [
      "Testing MSE:  0.0066970354\n",
      "Final encoder width: 50\n",
      "Final learning rate: 0.005230261546616469\n",
      "Epoch 1/15\n",
      "383/383 [==============================] - 6s 14ms/step - loss: 0.0388 - val_loss: 0.0206\n",
      "Epoch 2/15\n",
      "383/383 [==============================] - 5s 13ms/step - loss: 0.0168 - val_loss: 0.0146\n",
      "Epoch 3/15\n",
      "383/383 [==============================] - 5s 14ms/step - loss: 0.0132 - val_loss: 0.0123\n",
      "Epoch 4/15\n",
      "383/383 [==============================] - 5s 14ms/step - loss: 0.0114 - val_loss: 0.0110\n",
      "Epoch 5/15\n",
      "383/383 [==============================] - 6s 15ms/step - loss: 0.0103 - val_loss: 0.0101\n",
      "Epoch 6/15\n",
      "383/383 [==============================] - 5s 14ms/step - loss: 0.0095 - val_loss: 0.0096\n",
      "Epoch 7/15\n",
      "383/383 [==============================] - 5s 14ms/step - loss: 0.0089 - val_loss: 0.0094\n",
      "Epoch 8/15\n",
      "383/383 [==============================] - 6s 15ms/step - loss: 0.0085 - val_loss: 0.0088\n",
      "Epoch 9/15\n",
      "383/383 [==============================] - 5s 14ms/step - loss: 0.0081 - val_loss: 0.0088\n",
      "Epoch 10/15\n",
      "383/383 [==============================] - 6s 14ms/step - loss: 0.0079 - val_loss: 0.0082\n",
      "Epoch 11/15\n",
      "383/383 [==============================] - 5s 14ms/step - loss: 0.0076 - val_loss: 0.0083\n",
      "Epoch 12/15\n",
      "383/383 [==============================] - 5s 14ms/step - loss: 0.0074 - val_loss: 0.0081\n",
      "Epoch 13/15\n",
      "383/383 [==============================] - 6s 15ms/step - loss: 0.0072 - val_loss: 0.0080\n",
      "Epoch 14/15\n",
      "383/383 [==============================] - 6s 15ms/step - loss: 0.0070 - val_loss: 0.0079\n",
      "Epoch 15/15\n",
      "383/383 [==============================] - 6s 15ms/step - loss: 0.0069 - val_loss: 0.0076\n",
      "Training MSE:  0.00660044\n",
      "Validation MSE:  0.007592432\n"
     ]
    },
    {
     "name": "stderr",
     "output_type": "stream",
     "text": [
      " 50%|█████     | 5/10 [07:45<07:42, 92.44s/it]"
     ]
    },
    {
     "name": "stdout",
     "output_type": "stream",
     "text": [
      "Testing MSE:  0.0075527793\n",
      "Final encoder width: 150\n",
      "Final learning rate: 4.400567512086313e-05\n",
      "Epoch 1/15\n",
      "383/383 [==============================] - 6s 15ms/step - loss: 0.0355 - val_loss: 0.0178\n",
      "Epoch 2/15\n",
      "383/383 [==============================] - 6s 15ms/step - loss: 0.0144 - val_loss: 0.0124\n",
      "Epoch 3/15\n",
      "383/383 [==============================] - 6s 14ms/step - loss: 0.0113 - val_loss: 0.0104\n",
      "Epoch 4/15\n",
      "383/383 [==============================] - 6s 15ms/step - loss: 0.0097 - val_loss: 0.0100\n",
      "Epoch 5/15\n",
      "383/383 [==============================] - 6s 14ms/step - loss: 0.0087 - val_loss: 0.0085\n",
      "Epoch 6/15\n",
      "383/383 [==============================] - 6s 16ms/step - loss: 0.0080 - val_loss: 0.0079\n",
      "Epoch 7/15\n",
      "383/383 [==============================] - 6s 15ms/step - loss: 0.0075 - val_loss: 0.0076\n",
      "Epoch 8/15\n",
      "383/383 [==============================] - 6s 15ms/step - loss: 0.0071 - val_loss: 0.0076\n",
      "Epoch 9/15\n",
      "383/383 [==============================] - 6s 15ms/step - loss: 0.0067 - val_loss: 0.0070\n",
      "Epoch 10/15\n",
      "383/383 [==============================] - 6s 15ms/step - loss: 0.0065 - val_loss: 0.0070\n",
      "Epoch 11/15\n",
      "383/383 [==============================] - 6s 14ms/step - loss: 0.0063 - val_loss: 0.0068\n",
      "Epoch 12/15\n",
      "383/383 [==============================] - 5s 14ms/step - loss: 0.0061 - val_loss: 0.0064\n",
      "Epoch 13/15\n",
      "383/383 [==============================] - 6s 15ms/step - loss: 0.0059 - val_loss: 0.0063\n",
      "Epoch 14/15\n",
      "383/383 [==============================] - 6s 15ms/step - loss: 0.0057 - val_loss: 0.0063\n",
      "Epoch 15/15\n",
      "383/383 [==============================] - 5s 14ms/step - loss: 0.0056 - val_loss: 0.0062\n",
      "Training MSE:  0.005521892\n",
      "Validation MSE:  0.0062469793\n"
     ]
    },
    {
     "name": "stderr",
     "output_type": "stream",
     "text": [
      " 60%|██████    | 6/10 [09:19<06:11, 92.91s/it]"
     ]
    },
    {
     "name": "stdout",
     "output_type": "stream",
     "text": [
      "Testing MSE:  0.006237864\n",
      "Final encoder width: 100\n",
      "Final learning rate: 0.00070757045738805\n",
      "Epoch 1/15\n",
      "383/383 [==============================] - 6s 16ms/step - loss: 0.0376 - val_loss: 0.0190\n",
      "Epoch 2/15\n",
      "383/383 [==============================] - 5s 13ms/step - loss: 0.0157 - val_loss: 0.0137\n",
      "Epoch 3/15\n",
      "383/383 [==============================] - 5s 13ms/step - loss: 0.0124 - val_loss: 0.0117\n",
      "Epoch 4/15\n",
      "383/383 [==============================] - 5s 14ms/step - loss: 0.0107 - val_loss: 0.0108\n",
      "Epoch 5/15\n",
      "383/383 [==============================] - 5s 13ms/step - loss: 0.0097 - val_loss: 0.0096\n",
      "Epoch 6/15\n",
      "383/383 [==============================] - 5s 14ms/step - loss: 0.0089 - val_loss: 0.0089\n",
      "Epoch 7/15\n",
      "383/383 [==============================] - 5s 13ms/step - loss: 0.0083 - val_loss: 0.0085\n",
      "Epoch 8/15\n",
      "383/383 [==============================] - 5s 14ms/step - loss: 0.0078 - val_loss: 0.0081\n",
      "Epoch 9/15\n",
      "383/383 [==============================] - 5s 14ms/step - loss: 0.0074 - val_loss: 0.0080\n",
      "Epoch 10/15\n",
      "383/383 [==============================] - 5s 14ms/step - loss: 0.0071 - val_loss: 0.0074\n",
      "Epoch 11/15\n",
      "383/383 [==============================] - 5s 13ms/step - loss: 0.0069 - val_loss: 0.0074\n",
      "Epoch 12/15\n",
      "383/383 [==============================] - 5s 14ms/step - loss: 0.0066 - val_loss: 0.0070\n",
      "Epoch 13/15\n",
      "383/383 [==============================] - 5s 13ms/step - loss: 0.0065 - val_loss: 0.0070\n",
      "Epoch 14/15\n",
      "383/383 [==============================] - 5s 14ms/step - loss: 0.0063 - val_loss: 0.0069\n",
      "Epoch 15/15\n",
      "383/383 [==============================] - 5s 13ms/step - loss: 0.0061 - val_loss: 0.0067\n",
      "Training MSE:  0.0058783707\n",
      "Validation MSE:  0.006708526\n"
     ]
    },
    {
     "name": "stderr",
     "output_type": "stream",
     "text": [
      " 70%|███████   | 7/10 [10:47<04:34, 91.38s/it]"
     ]
    },
    {
     "name": "stdout",
     "output_type": "stream",
     "text": [
      "Testing MSE:  0.0066843205\n",
      "Final encoder width: 100\n",
      "Final learning rate: 0.0003081824112279879\n",
      "Epoch 1/15\n",
      "383/383 [==============================] - 6s 14ms/step - loss: 0.0371 - val_loss: 0.0190\n",
      "Epoch 2/15\n",
      "383/383 [==============================] - 5s 14ms/step - loss: 0.0154 - val_loss: 0.0132\n",
      "Epoch 3/15\n",
      "383/383 [==============================] - 6s 14ms/step - loss: 0.0120 - val_loss: 0.0112\n",
      "Epoch 4/15\n",
      "383/383 [==============================] - 5s 14ms/step - loss: 0.0104 - val_loss: 0.0103\n",
      "Epoch 5/15\n",
      "383/383 [==============================] - 5s 14ms/step - loss: 0.0093 - val_loss: 0.0092\n",
      "Epoch 6/15\n",
      "383/383 [==============================] - 6s 15ms/step - loss: 0.0086 - val_loss: 0.0086\n",
      "Epoch 7/15\n",
      "383/383 [==============================] - 6s 16ms/step - loss: 0.0080 - val_loss: 0.0082\n",
      "Epoch 8/15\n",
      "383/383 [==============================] - 5s 14ms/step - loss: 0.0076 - val_loss: 0.0080\n",
      "Epoch 9/15\n",
      "383/383 [==============================] - 6s 15ms/step - loss: 0.0072 - val_loss: 0.0078\n",
      "Epoch 10/15\n",
      "383/383 [==============================] - 6s 16ms/step - loss: 0.0069 - val_loss: 0.0072\n",
      "Epoch 11/15\n",
      "383/383 [==============================] - 6s 15ms/step - loss: 0.0067 - val_loss: 0.0072\n",
      "Epoch 12/15\n",
      "383/383 [==============================] - 6s 14ms/step - loss: 0.0065 - val_loss: 0.0069\n",
      "Epoch 13/15\n",
      "383/383 [==============================] - 6s 15ms/step - loss: 0.0063 - val_loss: 0.0068\n",
      "Epoch 14/15\n",
      "383/383 [==============================] - 6s 16ms/step - loss: 0.0061 - val_loss: 0.0069\n",
      "Epoch 15/15\n",
      "383/383 [==============================] - 5s 14ms/step - loss: 0.0060 - val_loss: 0.0066\n",
      "Training MSE:  0.005831178\n",
      "Validation MSE:  0.0066181384\n"
     ]
    },
    {
     "name": "stderr",
     "output_type": "stream",
     "text": [
      " 80%|████████  | 8/10 [12:21<03:03, 91.95s/it]"
     ]
    },
    {
     "name": "stdout",
     "output_type": "stream",
     "text": [
      "Testing MSE:  0.006584833\n",
      "Final encoder width: 100\n",
      "Final learning rate: 1.037542639720281e-05\n",
      "Epoch 1/15\n",
      "383/383 [==============================] - 7s 16ms/step - loss: 0.0365 - val_loss: 0.0186\n",
      "Epoch 2/15\n",
      "383/383 [==============================] - 6s 15ms/step - loss: 0.0151 - val_loss: 0.0130\n",
      "Epoch 3/15\n",
      "383/383 [==============================] - 6s 15ms/step - loss: 0.0117 - val_loss: 0.0109\n",
      "Epoch 4/15\n",
      "383/383 [==============================] - 5s 14ms/step - loss: 0.0101 - val_loss: 0.0099\n",
      "Epoch 5/15\n",
      "383/383 [==============================] - 6s 15ms/step - loss: 0.0091 - val_loss: 0.0091\n",
      "Epoch 6/15\n",
      "383/383 [==============================] - 6s 14ms/step - loss: 0.0084 - val_loss: 0.0085\n",
      "Epoch 7/15\n",
      "383/383 [==============================] - 6s 14ms/step - loss: 0.0078 - val_loss: 0.0082\n",
      "Epoch 8/15\n",
      "383/383 [==============================] - 6s 15ms/step - loss: 0.0074 - val_loss: 0.0078\n",
      "Epoch 9/15\n",
      "383/383 [==============================] - 6s 15ms/step - loss: 0.0071 - val_loss: 0.0074\n",
      "Epoch 10/15\n",
      "383/383 [==============================] - 6s 14ms/step - loss: 0.0068 - val_loss: 0.0072\n",
      "Epoch 11/15\n",
      "383/383 [==============================] - 6s 15ms/step - loss: 0.0066 - val_loss: 0.0072\n",
      "Epoch 12/15\n",
      "383/383 [==============================] - 6s 15ms/step - loss: 0.0063 - val_loss: 0.0068\n",
      "Epoch 13/15\n",
      "383/383 [==============================] - 6s 15ms/step - loss: 0.0062 - val_loss: 0.0066\n",
      "Epoch 14/15\n",
      "383/383 [==============================] - 6s 15ms/step - loss: 0.0060 - val_loss: 0.0065\n",
      "Epoch 15/15\n",
      "383/383 [==============================] - 5s 14ms/step - loss: 0.0059 - val_loss: 0.0064\n",
      "Training MSE:  0.0056458856\n",
      "Validation MSE:  0.0064265095\n"
     ]
    },
    {
     "name": "stderr",
     "output_type": "stream",
     "text": [
      " 90%|█████████ | 9/10 [13:55<01:32, 92.77s/it]"
     ]
    },
    {
     "name": "stdout",
     "output_type": "stream",
     "text": [
      "Testing MSE:  0.006410589\n",
      "Final encoder width: 50\n",
      "Final learning rate: 2.725890845866053e-05\n",
      "Epoch 1/15\n",
      "383/383 [==============================] - 6s 15ms/step - loss: 0.0391 - val_loss: 0.0205\n",
      "Epoch 2/15\n",
      "383/383 [==============================] - 5s 14ms/step - loss: 0.0170 - val_loss: 0.0148\n",
      "Epoch 3/15\n",
      "383/383 [==============================] - 6s 15ms/step - loss: 0.0135 - val_loss: 0.0127\n",
      "Epoch 4/15\n",
      "383/383 [==============================] - 5s 14ms/step - loss: 0.0118 - val_loss: 0.0115\n",
      "Epoch 5/15\n",
      "383/383 [==============================] - 6s 15ms/step - loss: 0.0106 - val_loss: 0.0104\n",
      "Epoch 6/15\n",
      "383/383 [==============================] - 5s 14ms/step - loss: 0.0098 - val_loss: 0.0100\n",
      "Epoch 7/15\n",
      "383/383 [==============================] - 6s 15ms/step - loss: 0.0092 - val_loss: 0.0095\n",
      "Epoch 8/15\n",
      "383/383 [==============================] - 5s 14ms/step - loss: 0.0087 - val_loss: 0.0090\n",
      "Epoch 9/15\n",
      "383/383 [==============================] - 6s 15ms/step - loss: 0.0084 - val_loss: 0.0090\n",
      "Epoch 10/15\n",
      "383/383 [==============================] - 5s 13ms/step - loss: 0.0081 - val_loss: 0.0086\n",
      "Epoch 11/15\n",
      "383/383 [==============================] - 6s 15ms/step - loss: 0.0078 - val_loss: 0.0085\n",
      "Epoch 12/15\n",
      "383/383 [==============================] - 5s 14ms/step - loss: 0.0076 - val_loss: 0.0082\n",
      "Epoch 13/15\n",
      "383/383 [==============================] - 5s 14ms/step - loss: 0.0075 - val_loss: 0.0081\n",
      "Epoch 14/15\n",
      "383/383 [==============================] - 6s 15ms/step - loss: 0.0073 - val_loss: 0.0081\n",
      "Epoch 15/15\n",
      "383/383 [==============================] - 6s 15ms/step - loss: 0.0072 - val_loss: 0.0081\n",
      "Training MSE:  0.007014988\n",
      "Validation MSE:  0.008060954\n"
     ]
    },
    {
     "name": "stderr",
     "output_type": "stream",
     "text": [
      "100%|██████████| 10/10 [15:27<00:00, 92.79s/it]"
     ]
    },
    {
     "name": "stdout",
     "output_type": "stream",
     "text": [
      "Testing MSE:  0.0079985075\n"
     ]
    },
    {
     "name": "stderr",
     "output_type": "stream",
     "text": [
      "\n"
     ]
    }
   ],
   "source": [
    "runs = 10\n",
    "learning_rate_logs = [random.uniform(-5, -2) for _ in range(runs)]\n",
    "encoder_widths = [random.choice(range(50, 200, 50)) for _ in range(runs)]\n",
    "#epochs_choice = [random.choice(range(5, 20, 5)) for _ in range(runs)]\n",
    "parameters = list(zip(learning_rate_logs, encoder_widths))\n",
    "\n",
    "for (learning_rate_log, encoder_width) in tqdm.tqdm(parameters):\n",
    "    print(\"Final encoder width:\", encoder_width)\n",
    "    print(\"Final learning rate:\", 10**learning_rate_log)\n",
    "    with mlflow.start_run():\n",
    "        autoencoder = build_model(encoder_width=encoder_width, learning_rate_log=learning_rate_log)\n",
    "        history = train_anomaly_model(autoencoder, epochs=15, verbose=1)\n",
    "    # figure out MSE \n",
    "    train_denoised_X = autoencoder.predict(train_noisy_X)\n",
    "    train_denoised_X = pd.DataFrame(train_denoised_X)\n",
    "    print(\"Training MSE: \", mean_squared_error(train_denoised_X, train_clean_X)) \n",
    "    validate_denoised_X = autoencoder.predict(validate_noisy_X)\n",
    "    validate_denoised_X = pd.DataFrame(validate_denoised_X)\n",
    "    print(\"Validation MSE: \", mean_squared_error(validate_denoised_X, validate_clean_X)) \n",
    "    test_denoised_X = autoencoder.predict(test_noisy_X)\n",
    "    test_denoised_X = pd.DataFrame(test_denoised_X)\n",
    "    print(\"Testing MSE: \", mean_squared_error(test_denoised_X, test_clean_X)) "
   ]
  },
  {
   "cell_type": "markdown",
   "metadata": {},
   "source": [
    "<br/>\n",
    "\n",
    "<br/>\n",
    "\n",
    "# Part 3. Final Model "
   ]
  },
  {
   "cell_type": "code",
   "execution_count": 21,
   "metadata": {
    "tags": []
   },
   "outputs": [],
   "source": [
    "# Find lowest MSE run id\n",
    "lowest_run_id = \"133fc3a8b8294d1db83d54078325b7a5\" \n",
    "saved_model_path = mlflow.tracking.MlflowClient().download_artifacts(lowest_run_id, 'model')\n",
    "autoencoder = load_model(saved_model_path)"
   ]
  },
  {
   "cell_type": "code",
   "execution_count": 22,
   "metadata": {
    "tags": []
   },
   "outputs": [
    {
     "name": "stdout",
     "output_type": "stream",
     "text": [
      "Model: \"sequential_20\"\n",
      "_________________________________________________________________\n",
      " Layer (type)                Output Shape              Param #   \n",
      "=================================================================\n",
      " dense_176 (Dense)           (None, 500)               392500    \n",
      "                                                                 \n",
      " dense_177 (Dense)           (None, 300)               150300    \n",
      "                                                                 \n",
      " dense_178 (Dense)           (None, 100)               30100     \n",
      "                                                                 \n",
      " dense_179 (Dense)           (None, 300)               30300     \n",
      "                                                                 \n",
      " dense_180 (Dense)           (None, 500)               150500    \n",
      "                                                                 \n",
      " dense_181 (Dense)           (None, 784)               392784    \n",
      "                                                                 \n",
      "=================================================================\n",
      "Total params: 1,146,484\n",
      "Trainable params: 1,146,484\n",
      "Non-trainable params: 0\n",
      "_________________________________________________________________\n"
     ]
    }
   ],
   "source": [
    "# Look at summary of autoencoder \n",
    "autoencoder.summary()"
   ]
  },
  {
   "cell_type": "code",
   "execution_count": 23,
   "metadata": {
    "tags": []
   },
   "outputs": [
    {
     "name": "stdout",
     "output_type": "stream",
     "text": [
      "Training MSE:  0.0051135733\n",
      "Validation MSE:  0.0064049507\n",
      "Testing MSE:  0.0063562705\n"
     ]
    }
   ],
   "source": [
    "# Look at training set data \n",
    "train_denoised_X = autoencoder.predict(train_noisy_X)\n",
    "train_denoised_X = pd.DataFrame(train_denoised_X)\n",
    "print(\"Training MSE: \", mean_squared_error(train_denoised_X, train_clean_X)) \n",
    "\n",
    "# Look at validation set data: \n",
    "validate_denoised_X = autoencoder.predict(validate_noisy_X)\n",
    "validate_denoised_X = pd.DataFrame(validate_denoised_X)\n",
    "print(\"Validation MSE: \", mean_squared_error(validate_denoised_X, validate_clean_X)) \n",
    "\n",
    "# Look at test set data: \n",
    "test_denoised_X = autoencoder.predict(test_noisy_X)\n",
    "test_denoised_X = pd.DataFrame(test_denoised_X)\n",
    "print(\"Testing MSE: \", mean_squared_error(test_denoised_X, test_clean_X)) "
   ]
  },
  {
   "cell_type": "code",
   "execution_count": 24,
   "metadata": {
    "tags": []
   },
   "outputs": [
    {
     "name": "stdout",
     "output_type": "stream",
     "text": [
      "Noisy Test Set Images\n"
     ]
    },
    {
     "data": {
      "image/png": "[encoded data removed]",
      "text/plain": [
       "<Figure size 2000x400 with 10 Axes>"
      ]
     },
     "metadata": {},
     "output_type": "display_data"
    },
    {
     "name": "stdout",
     "output_type": "stream",
     "text": [
      "Denoised Test Set Images\n"
     ]
    },
    {
     "data": {
      "image/png": "[encoded data removed]",
      "text/plain": [
       "<Figure size 2000x400 with 10 Axes>"
      ]
     },
     "metadata": {},
     "output_type": "display_data"
    },
    {
     "name": "stdout",
     "output_type": "stream",
     "text": [
      "Clean Test Set Images\n"
     ]
    },
    {
     "data": {
      "image/png": "[encoded data removed]",
      "text/plain": [
       "<Figure size 2000x400 with 10 Axes>"
      ]
     },
     "metadata": {},
     "output_type": "display_data"
    }
   ],
   "source": [
    "# Look at test set images \n",
    "\n",
    "# Print noisy images \n",
    "plt.figure(figsize=(20, 4))\n",
    "print(\"Noisy Test Set Images\") \n",
    "for i in range (10, 20, 1): \n",
    "    plt.subplot(2, 10, i+1)\n",
    "    plt.imshow(test_noisy_X.loc[i].values.reshape(28, 28), cmap='gray')\n",
    "plt.show()\n",
    "    \n",
    "# Print denoised images \n",
    "plt.figure(figsize=(20, 4))\n",
    "print(\"Denoised Test Set Images\") \n",
    "for i in range (10, 20, 1): \n",
    "    plt.subplot(2, 10, i+1)\n",
    "    plt.imshow(test_denoised_X.loc[i].values.reshape(28, 28), cmap='binary')\n",
    "    #plt.imshow(train_denoised_X[i].reshape((28, 28)), cmap='gray')\n",
    "plt.show()\n",
    "\n",
    "# Print clean images \n",
    "plt.figure(figsize=(20, 4))\n",
    "print(\"Clean Test Set Images\") \n",
    "for i in range (10, 20, 1): \n",
    "    plt.subplot(2, 10, i+1)\n",
    "    plt.imshow(test_clean_X.loc[i].values.reshape(28, 28), cmap='gray')\n",
    "plt.show()"
   ]
  },
  {
   "cell_type": "code",
   "execution_count": 25,
   "metadata": {
    "tags": []
   },
   "outputs": [],
   "source": [
    "model_path = 'output'\n",
    "\n",
    "os.makedirs(model_path, exist_ok=True)\n",
    "\n",
    "# Once you are ready to make the graded submission, run the autoencoder on the score noisy dataset.\n",
    "score_denoised_X = pd.DataFrame(\n",
    "    autoencoder.predict(score_noisy_X),\n",
    "    # This is needed to save the file in Parquet format.\n",
    "    columns=score_noisy_X.columns\n",
    ")\n",
    "\n",
    "# Now save it to disc as a Parquet file.\n",
    "score_denoised_X.to_parquet(f'{model_path}/score_denoised_x.parquet')\n",
    "\n",
    "save_model(autoencoder, model_path)\n",
    "\n",
    "# You now have the following files to be uploaded:\n",
    "# 1. This notebook and any other Python code you used to train the final model.\n",
    "# 2. architecture.json -- the model's definition\n",
    "# 3. model.keras -- the model's trained parameters\n",
    "# 4. score_denoised_X.parquet - the model's output on the score dataset"
   ]
  },
  {
   "cell_type": "code",
   "execution_count": 26,
   "metadata": {
    "tags": []
   },
   "outputs": [
    {
     "name": "stdout",
     "output_type": "stream",
     "text": [
      "Noisy Score_X Images\n"
     ]
    },
    {
     "data": {
      "image/png": "[encoded data removed]",
      "text/plain": [
       "<Figure size 2000x400 with 10 Axes>"
      ]
     },
     "metadata": {},
     "output_type": "display_data"
    },
    {
     "name": "stdout",
     "output_type": "stream",
     "text": [
      "Denoised Score_X Images\n"
     ]
    },
    {
     "data": {
      "image/png": "[encoded data removed]",
      "text/plain": [
       "<Figure size 2000x400 with 10 Axes>"
      ]
     },
     "metadata": {},
     "output_type": "display_data"
    }
   ],
   "source": [
    "# Print noisy images \n",
    "plt.figure(figsize=(20, 4))\n",
    "print(\"Noisy Score_X Images\") \n",
    "for i in range (10, 20, 1): \n",
    "    plt.subplot(2, 10, i+1)\n",
    "    plt.imshow(score_noisy_X.loc[i].values.reshape(28, 28), cmap='gray')\n",
    "plt.show()\n",
    "    \n",
    "# Print denoised images \n",
    "plt.figure(figsize=(20, 4))\n",
    "print(\"Denoised Score_X Images\") \n",
    "for i in range (10, 20, 1): \n",
    "    plt.subplot(2, 10, i+1)\n",
    "    plt.imshow(score_denoised_X.loc[i].values.reshape(28, 28), cmap='binary')\n",
    "plt.show()"
   ]
  }
 ],
 "metadata": {
  "availableInstances": [
   {
    "_defaultOrder": 0,
    "_isFastLaunch": true,
    "category": "General purpose",
    "gpuNum": 0,
    "hideHardwareSpecs": false,
    "memoryGiB": 4,
    "name": "ml.t3.medium",
    "vcpuNum": 2
   },
   {
    "_defaultOrder": 1,
    "_isFastLaunch": false,
    "category": "General purpose",
    "gpuNum": 0,
    "hideHardwareSpecs": false,
    "memoryGiB": 8,
    "name": "ml.t3.large",
    "vcpuNum": 2
   },
   {
    "_defaultOrder": 2,
    "_isFastLaunch": false,
    "category": "General purpose",
    "gpuNum": 0,
    "hideHardwareSpecs": false,
    "memoryGiB": 16,
    "name": "ml.t3.xlarge",
    "vcpuNum": 4
   },
   {
    "_defaultOrder": 3,
    "_isFastLaunch": false,
    "category": "General purpose",
    "gpuNum": 0,
    "hideHardwareSpecs": false,
    "memoryGiB": 32,
    "name": "ml.t3.2xlarge",
    "vcpuNum": 8
   },
   {
    "_defaultOrder": 4,
    "_isFastLaunch": true,
    "category": "General purpose",
    "gpuNum": 0,
    "hideHardwareSpecs": false,
    "memoryGiB": 8,
    "name": "ml.m5.large",
    "vcpuNum": 2
   },
   {
    "_defaultOrder": 5,
    "_isFastLaunch": false,
    "category": "General purpose",
    "gpuNum": 0,
    "hideHardwareSpecs": false,
    "memoryGiB": 16,
    "name": "ml.m5.xlarge",
    "vcpuNum": 4
   },
   {
    "_defaultOrder": 6,
    "_isFastLaunch": false,
    "category": "General purpose",
    "gpuNum": 0,
    "hideHardwareSpecs": false,
    "memoryGiB": 32,
    "name": "ml.m5.2xlarge",
    "vcpuNum": 8
   },
   {
    "_defaultOrder": 7,
    "_isFastLaunch": false,
    "category": "General purpose",
    "gpuNum": 0,
    "hideHardwareSpecs": false,
    "memoryGiB": 64,
    "name": "ml.m5.4xlarge",
    "vcpuNum": 16
   },
   {
    "_defaultOrder": 8,
    "_isFastLaunch": false,
    "category": "General purpose",
    "gpuNum": 0,
    "hideHardwareSpecs": false,
    "memoryGiB": 128,
    "name": "ml.m5.8xlarge",
    "vcpuNum": 32
   },
   {
    "_defaultOrder": 9,
    "_isFastLaunch": false,
    "category": "General purpose",
    "gpuNum": 0,
    "hideHardwareSpecs": false,
    "memoryGiB": 192,
    "name": "ml.m5.12xlarge",
    "vcpuNum": 48
   },
   {
    "_defaultOrder": 10,
    "_isFastLaunch": false,
    "category": "General purpose",
    "gpuNum": 0,
    "hideHardwareSpecs": false,
    "memoryGiB": 256,
    "name": "ml.m5.16xlarge",
    "vcpuNum": 64
   },
   {
    "_defaultOrder": 11,
    "_isFastLaunch": false,
    "category": "General purpose",
    "gpuNum": 0,
    "hideHardwareSpecs": false,
    "memoryGiB": 384,
    "name": "ml.m5.24xlarge",
    "vcpuNum": 96
   },
   {
    "_defaultOrder": 12,
    "_isFastLaunch": false,
    "category": "General purpose",
    "gpuNum": 0,
    "hideHardwareSpecs": false,
    "memoryGiB": 8,
    "name": "ml.m5d.large",
    "vcpuNum": 2
   },
   {
    "_defaultOrder": 13,
    "_isFastLaunch": false,
    "category": "General purpose",
    "gpuNum": 0,
    "hideHardwareSpecs": false,
    "memoryGiB": 16,
    "name": "ml.m5d.xlarge",
    "vcpuNum": 4
   },
   {
    "_defaultOrder": 14,
    "_isFastLaunch": false,
    "category": "General purpose",
    "gpuNum": 0,
    "hideHardwareSpecs": false,
    "memoryGiB": 32,
    "name": "ml.m5d.2xlarge",
    "vcpuNum": 8
   },
   {
    "_defaultOrder": 15,
    "_isFastLaunch": false,
    "category": "General purpose",
    "gpuNum": 0,
    "hideHardwareSpecs": false,
    "memoryGiB": 64,
    "name": "ml.m5d.4xlarge",
    "vcpuNum": 16
   },
   {
    "_defaultOrder": 16,
    "_isFastLaunch": false,
    "category": "General purpose",
    "gpuNum": 0,
    "hideHardwareSpecs": false,
    "memoryGiB": 128,
    "name": "ml.m5d.8xlarge",
    "vcpuNum": 32
   },
   {
    "_defaultOrder": 17,
    "_isFastLaunch": false,
    "category": "General purpose",
    "gpuNum": 0,
    "hideHardwareSpecs": false,
    "memoryGiB": 192,
    "name": "ml.m5d.12xlarge",
    "vcpuNum": 48
   },
   {
    "_defaultOrder": 18,
    "_isFastLaunch": false,
    "category": "General purpose",
    "gpuNum": 0,
    "hideHardwareSpecs": false,
    "memoryGiB": 256,
    "name": "ml.m5d.16xlarge",
    "vcpuNum": 64
   },
   {
    "_defaultOrder": 19,
    "_isFastLaunch": false,
    "category": "General purpose",
    "gpuNum": 0,
    "hideHardwareSpecs": false,
    "memoryGiB": 384,
    "name": "ml.m5d.24xlarge",
    "vcpuNum": 96
   },
   {
    "_defaultOrder": 20,
    "_isFastLaunch": false,
    "category": "General purpose",
    "gpuNum": 0,
    "hideHardwareSpecs": true,
    "memoryGiB": 0,
    "name": "ml.geospatial.interactive",
    "supportedImageNames": [
     "sagemaker-geospatial-v1-0"
    ],
    "vcpuNum": 0
   },
   {
    "_defaultOrder": 21,
    "_isFastLaunch": true,
    "category": "Compute optimized",
    "gpuNum": 0,
    "hideHardwareSpecs": false,
    "memoryGiB": 4,
    "name": "ml.c5.large",
    "vcpuNum": 2
   },
   {
    "_defaultOrder": 22,
    "_isFastLaunch": false,
    "category": "Compute optimized",
    "gpuNum": 0,
    "hideHardwareSpecs": false,
    "memoryGiB": 8,
    "name": "ml.c5.xlarge",
    "vcpuNum": 4
   },
   {
    "_defaultOrder": 23,
    "_isFastLaunch": false,
    "category": "Compute optimized",
    "gpuNum": 0,
    "hideHardwareSpecs": false,
    "memoryGiB": 16,
    "name": "ml.c5.2xlarge",
    "vcpuNum": 8
   },
   {
    "_defaultOrder": 24,
    "_isFastLaunch": false,
    "category": "Compute optimized",
    "gpuNum": 0,
    "hideHardwareSpecs": false,
    "memoryGiB": 32,
    "name": "ml.c5.4xlarge",
    "vcpuNum": 16
   },
   {
    "_defaultOrder": 25,
    "_isFastLaunch": false,
    "category": "Compute optimized",
    "gpuNum": 0,
    "hideHardwareSpecs": false,
    "memoryGiB": 72,
    "name": "ml.c5.9xlarge",
    "vcpuNum": 36
   },
   {
    "_defaultOrder": 26,
    "_isFastLaunch": false,
    "category": "Compute optimized",
    "gpuNum": 0,
    "hideHardwareSpecs": false,
    "memoryGiB": 96,
    "name": "ml.c5.12xlarge",
    "vcpuNum": 48
   },
   {
    "_defaultOrder": 27,
    "_isFastLaunch": false,
    "category": "Compute optimized",
    "gpuNum": 0,
    "hideHardwareSpecs": false,
    "memoryGiB": 144,
    "name": "ml.c5.18xlarge",
    "vcpuNum": 72
   },
   {
    "_defaultOrder": 28,
    "_isFastLaunch": false,
    "category": "Compute optimized",
    "gpuNum": 0,
    "hideHardwareSpecs": false,
    "memoryGiB": 192,
    "name": "ml.c5.24xlarge",
    "vcpuNum": 96
   },
   {
    "_defaultOrder": 29,
    "_isFastLaunch": true,
    "category": "Accelerated computing",
    "gpuNum": 1,
    "hideHardwareSpecs": false,
    "memoryGiB": 16,
    "name": "ml.g4dn.xlarge",
    "vcpuNum": 4
   },
   {
    "_defaultOrder": 30,
    "_isFastLaunch": false,
    "category": "Accelerated computing",
    "gpuNum": 1,
    "hideHardwareSpecs": false,
    "memoryGiB": 32,
    "name": "ml.g4dn.2xlarge",
    "vcpuNum": 8
   },
   {
    "_defaultOrder": 31,
    "_isFastLaunch": false,
    "category": "Accelerated computing",
    "gpuNum": 1,
    "hideHardwareSpecs": false,
    "memoryGiB": 64,
    "name": "ml.g4dn.4xlarge",
    "vcpuNum": 16
   },
   {
    "_defaultOrder": 32,
    "_isFastLaunch": false,
    "category": "Accelerated computing",
    "gpuNum": 1,
    "hideHardwareSpecs": false,
    "memoryGiB": 128,
    "name": "ml.g4dn.8xlarge",
    "vcpuNum": 32
   },
   {
    "_defaultOrder": 33,
    "_isFastLaunch": false,
    "category": "Accelerated computing",
    "gpuNum": 4,
    "hideHardwareSpecs": false,
    "memoryGiB": 192,
    "name": "ml.g4dn.12xlarge",
    "vcpuNum": 48
   },
   {
    "_defaultOrder": 34,
    "_isFastLaunch": false,
    "category": "Accelerated computing",
    "gpuNum": 1,
    "hideHardwareSpecs": false,
    "memoryGiB": 256,
    "name": "ml.g4dn.16xlarge",
    "vcpuNum": 64
   },
   {
    "_defaultOrder": 35,
    "_isFastLaunch": false,
    "category": "Accelerated computing",
    "gpuNum": 1,
    "hideHardwareSpecs": false,
    "memoryGiB": 61,
    "name": "ml.p3.2xlarge",
    "vcpuNum": 8
   },
   {
    "_defaultOrder": 36,
    "_isFastLaunch": false,
    "category": "Accelerated computing",
    "gpuNum": 4,
    "hideHardwareSpecs": false,
    "memoryGiB": 244,
    "name": "ml.p3.8xlarge",
    "vcpuNum": 32
   },
   {
    "_defaultOrder": 37,
    "_isFastLaunch": false,
    "category": "Accelerated computing",
    "gpuNum": 8,
    "hideHardwareSpecs": false,
    "memoryGiB": 488,
    "name": "ml.p3.16xlarge",
    "vcpuNum": 64
   },
   {
    "_defaultOrder": 38,
    "_isFastLaunch": false,
    "category": "Accelerated computing",
    "gpuNum": 8,
    "hideHardwareSpecs": false,
    "memoryGiB": 768,
    "name": "ml.p3dn.24xlarge",
    "vcpuNum": 96
   },
   {
    "_defaultOrder": 39,
    "_isFastLaunch": false,
    "category": "Memory Optimized",
    "gpuNum": 0,
    "hideHardwareSpecs": false,
    "memoryGiB": 16,
    "name": "ml.r5.large",
    "vcpuNum": 2
   },
   {
    "_defaultOrder": 40,
    "_isFastLaunch": false,
    "category": "Memory Optimized",
    "gpuNum": 0,
    "hideHardwareSpecs": false,
    "memoryGiB": 32,
    "name": "ml.r5.xlarge",
    "vcpuNum": 4
   },
   {
    "_defaultOrder": 41,
    "_isFastLaunch": false,
    "category": "Memory Optimized",
    "gpuNum": 0,
    "hideHardwareSpecs": false,
    "memoryGiB": 64,
    "name": "ml.r5.2xlarge",
    "vcpuNum": 8
   },
   {
    "_defaultOrder": 42,
    "_isFastLaunch": false,
    "category": "Memory Optimized",
    "gpuNum": 0,
    "hideHardwareSpecs": false,
    "memoryGiB": 128,
    "name": "ml.r5.4xlarge",
    "vcpuNum": 16
   },
   {
    "_defaultOrder": 43,
    "_isFastLaunch": false,
    "category": "Memory Optimized",
    "gpuNum": 0,
    "hideHardwareSpecs": false,
    "memoryGiB": 256,
    "name": "ml.r5.8xlarge",
    "vcpuNum": 32
   },
   {
    "_defaultOrder": 44,
    "_isFastLaunch": false,
    "category": "Memory Optimized",
    "gpuNum": 0,
    "hideHardwareSpecs": false,
    "memoryGiB": 384,
    "name": "ml.r5.12xlarge",
    "vcpuNum": 48
   },
   {
    "_defaultOrder": 45,
    "_isFastLaunch": false,
    "category": "Memory Optimized",
    "gpuNum": 0,
    "hideHardwareSpecs": false,
    "memoryGiB": 512,
    "name": "ml.r5.16xlarge",
    "vcpuNum": 64
   },
   {
    "_defaultOrder": 46,
    "_isFastLaunch": false,
    "category": "Memory Optimized",
    "gpuNum": 0,
    "hideHardwareSpecs": false,
    "memoryGiB": 768,
    "name": "ml.r5.24xlarge",
    "vcpuNum": 96
   },
   {
    "_defaultOrder": 47,
    "_isFastLaunch": false,
    "category": "Accelerated computing",
    "gpuNum": 1,
    "hideHardwareSpecs": false,
    "memoryGiB": 16,
    "name": "ml.g5.xlarge",
    "vcpuNum": 4
   },
   {
    "_defaultOrder": 48,
    "_isFastLaunch": false,
    "category": "Accelerated computing",
    "gpuNum": 1,
    "hideHardwareSpecs": false,
    "memoryGiB": 32,
    "name": "ml.g5.2xlarge",
    "vcpuNum": 8
   },
   {
    "_defaultOrder": 49,
    "_isFastLaunch": false,
    "category": "Accelerated computing",
    "gpuNum": 1,
    "hideHardwareSpecs": false,
    "memoryGiB": 64,
    "name": "ml.g5.4xlarge",
    "vcpuNum": 16
   },
   {
    "_defaultOrder": 50,
    "_isFastLaunch": false,
    "category": "Accelerated computing",
    "gpuNum": 1,
    "hideHardwareSpecs": false,
    "memoryGiB": 128,
    "name": "ml.g5.8xlarge",
    "vcpuNum": 32
   },
   {
    "_defaultOrder": 51,
    "_isFastLaunch": false,
    "category": "Accelerated computing",
    "gpuNum": 1,
    "hideHardwareSpecs": false,
    "memoryGiB": 256,
    "name": "ml.g5.16xlarge",
    "vcpuNum": 64
   },
   {
    "_defaultOrder": 52,
    "_isFastLaunch": false,
    "category": "Accelerated computing",
    "gpuNum": 4,
    "hideHardwareSpecs": false,
    "memoryGiB": 192,
    "name": "ml.g5.12xlarge",
    "vcpuNum": 48
   },
   {
    "_defaultOrder": 53,
    "_isFastLaunch": false,
    "category": "Accelerated computing",
    "gpuNum": 4,
    "hideHardwareSpecs": false,
    "memoryGiB": 384,
    "name": "ml.g5.24xlarge",
    "vcpuNum": 96
   },
   {
    "_defaultOrder": 54,
    "_isFastLaunch": false,
    "category": "Accelerated computing",
    "gpuNum": 8,
    "hideHardwareSpecs": false,
    "memoryGiB": 768,
    "name": "ml.g5.48xlarge",
    "vcpuNum": 192
   },
   {
    "_defaultOrder": 55,
    "_isFastLaunch": false,
    "category": "Accelerated computing",
    "gpuNum": 8,
    "hideHardwareSpecs": false,
    "memoryGiB": 1152,
    "name": "ml.p4d.24xlarge",
    "vcpuNum": 96
   },
   {
    "_defaultOrder": 56,
    "_isFastLaunch": false,
    "category": "Accelerated computing",
    "gpuNum": 8,
    "hideHardwareSpecs": false,
    "memoryGiB": 1152,
    "name": "ml.p4de.24xlarge",
    "vcpuNum": 96
   }
  ],
  "instance_type": "ml.t3.xlarge",
  "kernelspec": {
   "display_name": "Python 3 (ipykernel)",
   "language": "python",
   "name": "python3"
  },
  "language_info": {
   "codemirror_mode": {
    "name": "ipython",
    "version": 3
   },
   "file_extension": ".py",
   "mimetype": "text/x-python",
   "name": "python",
   "nbconvert_exporter": "python",
   "pygments_lexer": "ipython3",
   "version": "3.9.12"
  },
  "lcc_arn": "arn:aws:sagemaker:us-west-2:081606037347:studio-lifecycle-config/collegium-kernel-r4"
 },
 "nbformat": 4,
 "nbformat_minor": 4
}
